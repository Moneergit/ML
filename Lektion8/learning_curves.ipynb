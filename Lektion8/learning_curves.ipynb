{
 "cells": [
  {
   "cell_type": "markdown",
   "metadata": {},
   "source": [
    "# SWMAL Exercise\n",
    "\n",
    "## Learning Curves\n",
    "\n",
    "### The Generalization Error, Over- and Underfitting, Early Stopping, and Optimal Capacity\n",
    "\n",
    "In this exercise, we need to explain all important overall concepts in training. Let's begin with Figure 5.3 from Deep Learning (Ian Goodfellow, et. al. [DL]), which pretty much sums it all up\n",
    "\n",
    "<img src=\"https://itundervisning.ase.au.dk/SWMAL/L08/Figs/dl_generalization_error.png\" alt=\"WARNING: could not get image from server.\" style=\"height:500px\">\n",
    "\n",
    "\n",
    "### Qa) The Generalization Error\n",
    "\n",
    "Write a detailed description of figure 5.3 (above) for your hand-in.\n",
    " \n",
    "All concepts in the figure must be explained \n",
    "\n",
    "* training/generalization error, \n",
    "* underfit/overfit zone, \n",
    "* optimal capacity, \n",
    "* generalization gab, \n",
    "* and the two axes: x/capacity, y/error."
   ]
  },
  {
   "cell_type": "code",
   "execution_count": null,
   "metadata": {},
   "outputs": [],
   "source": [
    "# TODO: ...in text\n",
    "assert False, \"TODO: write some text..\""
   ]
  },
  {
   "cell_type": "markdown",
   "metadata": {},
   "source": [
    "### Qb Learning Curves\n",
    "\n",
    "Next, produce a loss vs epoch graph ala (from `04_training_linear_models.ipynb` [GITHOML]) \n",
    "\n",
    "<img src=\"https://itundervisning.ase.au.dk/SWMAL/L08/Figs/training_curve.png\" alt=\"WARNING: could not get image from server.\">\n",
    "\n",
    "\n",
    "for your linear regressor, `MyLinReg`, from an earlier lesson. You need a function \n",
    "\n",
    ">```LossHistory()```\n",
    "\n",
    "on your regressor class, that accumulates the internally calculated $J$'s. Once `LossHistory` is ready, plot it using the code below."
   ]
  },
  {
   "cell_type": "code",
   "execution_count": 1,
   "metadata": {},
   "outputs": [],
   "source": [
    "import numpy as np\n",
    "\n",
    "class MyLinReg():\n",
    "    def __init__(self, eta0=0.01, max_iter=100, tol=1e-3, n_iter_no_change=5, verbose=True):\n",
    "        self.eta0 = eta0\n",
    "        self.max_iter = max_iter\n",
    "        self.tol = tol\n",
    "        self.n_iter_no_change = n_iter_no_change\n",
    "        self.verbose = verbose\n",
    "        self.loss_history = []\n",
    "        self.theta = None\n",
    "\n",
    "    def __str__(self):\n",
    "        return \"MyLinReg.__str__(): custom linear regressor\"\n",
    "\n",
    "    def fit(self, X, y):\n",
    "        m, n = X.shape\n",
    "        X_b = np.c_[np.ones((m, 1)), X]  # add bias\n",
    "        self.theta = np.random.randn(n + 1, 1)  # random init\n",
    "        prev_loss = float('inf')\n",
    "        no_change_count = 0\n",
    "\n",
    "        for epoch in range(self.max_iter):\n",
    "            gradients = 2/m * X_b.T.dot(X_b.dot(self.theta) - y)\n",
    "            self.theta -= self.eta0 * gradients\n",
    "            loss = np.mean((X_b.dot(self.theta) - y) ** 2)\n",
    "            self.loss_history.append(loss)\n",
    "\n",
    "            if self.verbose:\n",
    "                print(f\"Epoch {epoch+1}: loss={loss:.4f}\")\n",
    "            \n",
    "            if abs(prev_loss - loss) < self.tol:\n",
    "                no_change_count += 1\n",
    "                if no_change_count >= self.n_iter_no_change:\n",
    "                    if self.verbose:\n",
    "                        print(\"Early stopping.\")\n",
    "                    break\n",
    "            else:\n",
    "                no_change_count = 0\n",
    "            prev_loss = loss\n",
    "\n",
    "    def predict(self, X):\n",
    "        X_b = np.c_[np.ones((X.shape[0], 1)), X]\n",
    "        return X_b.dot(self.theta)\n",
    "\n",
    "    def LossHistory(self):\n",
    "        return self.loss_history\n"
   ]
  },
  {
   "cell_type": "code",
   "execution_count": 2,
   "metadata": {},
   "outputs": [
    {
     "data": {
      "image/png": "[encoded data removed]",
      "text/plain": [
       "<Figure size 640x480 with 1 Axes>"
      ]
     },
     "metadata": {},
     "output_type": "display_data"
    }
   ],
   "source": [
    "# Generér data\n",
    "np.random.seed(42)\n",
    "m = 100\n",
    "X = 2 * np.random.rand(m, 1)\n",
    "y = 4 + 3 * X + np.random.randn(m, 1)\n",
    "\n",
    "# Træn modellen\n",
    "r = MyLinReg(eta0=0.1, max_iter=50, verbose=False)\n",
    "r.fit(X, y)\n",
    "\n",
    "# Plot loss historik\n",
    "import matplotlib.pyplot as plt\n",
    "\n",
    "losses = r.LossHistory()\n",
    "plt.plot(losses)\n",
    "plt.title(\"Loss history (Learning Curve)\")\n",
    "plt.xlabel(\"Epoch\")\n",
    "plt.ylabel(\"Loss (MSE)\")\n",
    "plt.grid(True)\n",
    "plt.show()\n"
   ]
  },
  {
   "cell_type": "markdown",
   "metadata": {},
   "source": [
    "### Qc)  Early Stopping\n",
    "\n",
    "Then implement ___early stopping___, in your `MyLinReg` estimator. Below is a graphical view of early stopping similar to Figure 4-20 p.162 [HOML] (for a non-linear model?)\n",
    "\n",
    "<img src=\"https://itundervisning.ase.au.dk/SWMAL/L08/Figs/early_stopping.png\" alt=\"WARNING: could not get image from server.\">\n",
    "\n",
    "Write an explanation of the early stopping concept in text, implement it in your linear regressor and write some test/demo code, that via some learning-curve graphs demonstrates how it works when training your linear regressor in both _batch-gradient descent_ and \n",
    "_stochastic gradient descent_ modes."
   ]
  },
  {
   "cell_type": "code",
   "execution_count": 3,
   "metadata": {},
   "outputs": [
    {
     "name": "stdout",
     "output_type": "stream",
     "text": [
      "Epoch 1: loss=11.7320\n",
      "Epoch 2: loss=5.0552\n",
      "Epoch 3: loss=2.7223\n",
      "Epoch 4: loss=1.8883\n",
      "Epoch 5: loss=1.5728\n",
      "Epoch 6: loss=1.4378\n",
      "Epoch 7: loss=1.3668\n",
      "Epoch 8: loss=1.3195\n",
      "Epoch 9: loss=1.2818\n",
      "Epoch 10: loss=1.2489\n",
      "Epoch 11: loss=1.2190\n",
      "Epoch 12: loss=1.1914\n",
      "Epoch 13: loss=1.1656\n",
      "Epoch 14: loss=1.1416\n",
      "Epoch 15: loss=1.1193\n",
      "Epoch 16: loss=1.0984\n",
      "Epoch 17: loss=1.0789\n",
      "Epoch 18: loss=1.0608\n",
      "Epoch 19: loss=1.0438\n",
      "Epoch 20: loss=1.0280\n",
      "Epoch 21: loss=1.0132\n",
      "Epoch 22: loss=0.9994\n",
      "Epoch 23: loss=0.9865\n",
      "Epoch 24: loss=0.9745\n",
      "Epoch 25: loss=0.9633\n",
      "Epoch 26: loss=0.9529\n",
      "Epoch 27: loss=0.9431\n",
      "Epoch 28: loss=0.9340\n",
      "Epoch 29: loss=0.9255\n",
      "Epoch 30: loss=0.9176\n",
      "Epoch 31: loss=0.9102\n",
      "Epoch 32: loss=0.9032\n",
      "Epoch 33: loss=0.8968\n",
      "Epoch 34: loss=0.8908\n",
      "Epoch 35: loss=0.8852\n",
      "Epoch 36: loss=0.8799\n",
      "Epoch 37: loss=0.8750\n",
      "Epoch 38: loss=0.8704\n",
      "Epoch 39: loss=0.8662\n",
      "Epoch 40: loss=0.8622\n",
      "Epoch 41: loss=0.8585\n",
      "Epoch 42: loss=0.8550\n",
      "Epoch 43: loss=0.8518\n",
      "Epoch 44: loss=0.8488\n",
      "Epoch 45: loss=0.8460\n",
      "Epoch 46: loss=0.8433\n",
      "Epoch 47: loss=0.8409\n",
      "Epoch 48: loss=0.8386\n",
      "Epoch 49: loss=0.8365\n",
      "Epoch 50: loss=0.8345\n",
      "Epoch 51: loss=0.8326\n",
      "Epoch 52: loss=0.8309\n",
      "Epoch 53: loss=0.8292\n",
      "Epoch 54: loss=0.8277\n",
      "Epoch 55: loss=0.8263\n",
      "Epoch 56: loss=0.8250\n",
      "Epoch 57: loss=0.8238\n",
      "Epoch 58: loss=0.8226\n",
      "Epoch 59: loss=0.8216\n",
      "Epoch 60: loss=0.8206\n",
      "Epoch 61: loss=0.8196\n",
      "Epoch 62: loss=0.8188\n",
      "Epoch 63: loss=0.8179\n",
      "Epoch 64: loss=0.8172\n",
      "Early stopping.\n"
     ]
    }
   ],
   "source": [
    "# Generér data\n",
    "import numpy as np\n",
    "np.random.seed(42)\n",
    "m = 100\n",
    "X = 2 * np.random.rand(m, 1)\n",
    "y = 4 + 3 * X + np.random.randn(m, 1)\n",
    "\n",
    "# Træn modellen med early stopping slået til\n",
    "r = MyLinReg(\n",
    "    eta0=0.1,\n",
    "    max_iter=100,\n",
    "    tol=1e-3,\n",
    "    n_iter_no_change=5,\n",
    "    verbose=True  # Vigtigt: så du kan se output i konsollen\n",
    ")\n",
    "\n",
    "r.fit(X, y)\n"
   ]
  },
  {
   "cell_type": "markdown",
   "metadata": {},
   "source": [
    "### Qd:  [OPTIONAL]  Using a Polynomial Regressor to Produce an Error-vs-Capacity Graph\n",
    "\n",
    "Finally, create a polynomial estimator based on your `MyLinReg`, see details of\n",
    "how to expend a linear regressor to a polynomial fitting in [HOLM] or in\n",
    "\n",
    "> https://scikit-learn.org/stable/auto_examples/model_selection/plot_underfitting_overfitting.html\n",
    " \n",
    "that contains most of the code you will need. \n",
    " \n",
    "With a polynomial regressor, you should be able to reproduce a graph similar to Figure 5.3 from Deep Learning [DL], where you notice that the _x-axis_ is capacity and not _epoch_ as the learning curves you just produced in Qb/c."
   ]
  },
  {
   "cell_type": "code",
   "execution_count": null,
   "metadata": {},
   "outputs": [],
   "source": [
    "assert False \"TODO: implement a polynomial-fit pipeline, and create an Error-vs-Capacity plot..\n",
    "\n",
    "pipeline = Pipeline([\n",
    "      (\"polynomial_features\", polynomial_features),\n",
    "      (\"linear_regression\",   MyLinReg())\n",
    "  ])\n"
   ]
  },
  {
   "cell_type": "markdown",
   "metadata": {},
   "source": [
    "### Qe Conclusion\n",
    "\n",
    "Sum it all up in a nice, well-written conclusion."
   ]
  },
  {
   "cell_type": "markdown",
   "metadata": {},
   "source": [
    "REVISIONS||\n",
    ":-|:-\n",
    "2018-12-19| CEF, initial.                  \n",
    "2018-02-14| CEF, major update and put in sync with under/overfitting exe.         \n",
    "2018-02-20| CEF, fixed revision table malformatting.\n",
    "2018-02-25| CEF, minor text updates, and made Qc optional.\n",
    "2018-02-25| CEF, updated code, made more functions.\n",
    "2018-03-11| CEF, corrected RSME to RMSE.\n",
    "2019-10-08| CEF, updated to ITMAL E19.\n",
    "2020-03-14| CEF, updated to ITMAL F20.\n",
    "2020-10-15| CEF, updated to ITMAL E20.\n",
    "2020-11-17| CEF, added a comment on 90-degree polynomial, made early stopping a pseudo code exe.\n",
    "2021-03-22| CEF, changed crossref from \"capacity_under_overfitting.ipynb Qc\" to Qa+b in QdExplain the Polynomial RMSE-Capacity Plot. \n",
    "2021-03-23| CEF, changed 'cv RMSE' legend to 'validation RMSE'.\n",
    "2021-10-31| CEF, updated to ITMAL E21.\n",
    "2022-03-25| CEF, updated to SWMAL F22.\n",
    "2023-03-16| CEF, minor update to SWMAL F23.\n",
    "2024-09-25| CEF, major update, combined  generalization_error.ipynb and capacity_under_overfitting.ipynb, removed review parts, added graphs plots for MyLinReg.\n",
    "2024-10-14| CEF, minor text updates."
   ]
  }
 ],
 "metadata": {
  "kernelspec": {
   "display_name": "base",
   "language": "python",
   "name": "python3"
  },
  "language_info": {
   "codemirror_mode": {
    "name": "ipython",
    "version": 3
   },
   "file_extension": ".py",
   "mimetype": "text/x-python",
   "name": "python",
   "nbconvert_exporter": "python",
   "pygments_lexer": "ipython3",
   "version": "3.12.7"
  },
  "varInspector": {
   "cols": {
    "lenName": 16,
    "lenType": 16,
    "lenVar": 40
   },
   "kernels_config": {
    "python": {
     "delete_cmd_postfix": "",
     "delete_cmd_prefix": "del ",
     "library": "var_list.py",
     "varRefreshCmd": "print(var_dic_list())"
    },
    "r": {
     "delete_cmd_postfix": ") ",
     "delete_cmd_prefix": "rm(",
     "library": "var_list.r",
     "varRefreshCmd": "cat(var_dic_list()) "
    }
   },
   "position": {
    "height": "144.517px",
    "left": "1228px",
    "right": "20px",
    "top": "120px",
    "width": "350px"
   },
   "types_to_exclude": [
    "module",
    "function",
    "builtin_function_or_method",
    "instance",
    "_Feature"
   ],
   "window_display": true
  }
 },
 "nbformat": 4,
 "nbformat_minor": 4
}
