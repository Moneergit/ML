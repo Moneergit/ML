{
 "cells": [
  {
   "cell_type": "markdown",
   "metadata": {},
   "source": [
    "# SWMAL Exercise\n",
    "\n",
    "\n",
    "## Supergruppe diskussion\n",
    "\n",
    "\n",
    "## § 2 \"End-to-End Machine Learning Project\" [HOML]\n",
    "\n",
    "Genlæs kapitel  § 2 og forbered mundtlig præsentation.\n",
    "\n",
    "## Forberedelse inden lektionen\n",
    "\n",
    "Een eller flere af gruppe medlemmer forbereder et mundtligt resume af § 2:\n",
    "\n",
    "* i skal kunne give et kort mundligt resume af hele § 2 til en anden gruppe (på nær, som nævnt, Create the Workspace og Download the Data),\n",
    "\n",
    "* resume holdes til koncept-plan, dvs. prøv at genfortælle, hvad de overordnede linier er i kapitlerne i [HOML].\n",
    "\n",
    "Lav et kort skriftlig resume af de enkelte underafsnit, ca. 5 til 20 liners tekst, se \"TODO\"-template herunder (MUST, til O2 aflevering).\n",
    "\n",
    "Kapitler (incl. underkapitler):\n",
    "\n",
    "* _Look at the Big Picture,_\n",
    "* _Get the Data,_\n",
    "* _Explore and Visualize the Data to Gain Insights,_ \n",
    "* _Prepare the Data for Machine Learning Algorithms,_\n",
    "* _Select and Train a Model,_\n",
    "* _Fine-Tune Your Model,_\n",
    "* _Launch, Monitor, and Maintain Your System,_\n",
    "* (_Try It Out!._  er afslutning af kapitel, skal ikke resumeres).\n",
    "\n",
    "## På klassen\n",
    "\n",
    "Supergruppe [SG] resume af § 2 End-to-End, ca. 30 til 45 min.\n",
    "\n",
    "* en supergruppe [SG], sammensættes af to grupper [G], on-the-fly på klassen,\n",
    "\n",
    "* hver gruppe [G] forbereder og giver en anden gruppe [G] et mundtligt resume af § 2 til en anden gruppe,\n",
    "\n",
    "* tid: ca. 30 mim. sammenlagt, den ene grupper genfortæller første halvdel af § 2 i ca. 15 min., hvorefter den anden gruppe genfortæller resten i ca. 15 min."
   ]
  },
  {
   "cell_type": "markdown",
   "metadata": {},
   "source": [
    "#### Resume: Look at the Big Picture\n",
    "\n",
    "I dette afsnit fokuseres der på at forstå det overordnede mål med machine learning-projektet. Det handler om at definere problemet klart, identificere de vigtigste forretningsmål, og forstå, hvordan modellens succes vil blive målt. Det er vigtigt at overveje, hvilke data der er tilgængelige, og hvordan de kan bruges til at løse problemet. Derudover diskuteres det, hvordan modellen vil blive brugt i praksis, og hvilke begrænsninger der kan være. Dette afsnit lægger grundlaget for resten af projektet ved at sikre, at alle involverede har en fælles forståelse af projektets mål og rammer.\n",
    "\n",
    "#### Resume: Get the Data\n",
    "\n",
    "Dette afsnit handler om at indsamle de nødvendige data til projektet. Det inkluderer at identificere relevante datakilder, downloade dataene, og sætte dem op i et format, der er egnet til analyse. Det er vigtigt at sikre, at dataene er komplette og nøjagtige, og at der tages hensyn til eventuelle juridiske eller etiske overvejelser vedrørende databrug. Derudover beskrives det, hvordan man kan oprette en sikker arbejdsmiljø for at håndtere dataene, herunder at opsætte en database eller et data warehouse.\n",
    "\n",
    "#### Resume: Explore and Visualize the Data to Gain Insights,\n",
    "\n",
    "I dette afsnit fokuseres der på at udforske dataene for at få en dybere forståelse af deres struktur og indhold. Dette inkluderer at udføre deskriptiv statistik, identificere mønstre og sammenhænge, og visualisere dataene for at opdage interessante tendenser eller outliers. Visualiseringer som histogrammer, scatter plots og heatmaps kan være nyttige værktøjer i denne proces. Formålet er at opnå indsigt, der kan guide de efterfølgende trin i machine learning-processen, såsom valg af features og modeller.\n",
    "\n",
    "#### Resume: Prepare the Data for Machine Learning Algorithms\n",
    "\n",
    "Dette afsnit dækker forberedelsen af data til brug i machine learning-modeller. Det inkluderer rensning af data, håndtering af manglende værdier, og transformation af data til et format, der er egnet til modellering. Derudover beskrives teknikker som feature engineering, hvor man skaber nye features baseret på eksisterende data, og normalisering eller standardisering af data for at forbedre modellens præstation. Det er vigtigt at sikre, at dataene er i den rigtige form, før de præsenteres for modellen.\n",
    "\n",
    "#### Resume: Select and Train a Model\n",
    "\n",
    "I dette afsnit vælges og trænes en passende machine learning-model baseret på de forberedte data. Det inkluderer at evaluere forskellige modeller, såsom lineær regression, beslutningstræer eller neurale netværk, og vælge den, der bedst opfylder projektets mål. Modellen trænes derefter på træningsdataene, og dens præstation evalueres ved hjælp af passende metrikker som RMSE eller accuracy. Det er vigtigt at overvåge modellens præstation under træningen for at undgå overfitting eller underfitting.\n",
    "\n",
    "#### Resume: Fine-Tune Your Model\n",
    "\n",
    "Dette afsnit fokuserer på at finjustere den valgte model for at optimere dens præstation. Dette inkluderer at justere hyperparametre ved hjælp af teknikker som grid search eller random search. Derudover kan man overveje at bruge ensemble-metoder, som kombinerer flere modeller for at forbedre præcisionen. Det er også vigtigt at validere modellen på et separat test-dataset for at sikre, at den generaliserer godt til nye data. Finjusteringen er en kritisk del af processen for at opnå den bedst mulige model.\n",
    "\n",
    "#### Resume: Launch, Monitor, and Maintain Your System\n",
    "\n",
    "I dette afsnit beskrives processen med at implementere den færdige model i produktion. Det inkluderer at opsætte en infrastruktur, der kan håndtere modelens drift, og sikre, at den kan skaleres efter behov. Det er vigtigt at overvåge modellens præstation over tid for at opdage eventuelle problemer, såsom data drift eller forringelse af modellens præcision. Derudover skal der være en plan for vedligeholdelse og opdatering af modellen, når nye data bliver tilgængelige, eller når forretningsbehovene ændrer sig. Dette sikrer, at modellen forbliver relevant og effektiv i lang tid.\n",
    "\n"
   ]
  },
  {
   "cell_type": "markdown",
   "metadata": {},
   "source": [
    "REVISIONS||\n",
    ":- | :- |\n",
    "2019-01-28| CEF, initial.\n",
    "2020-02-05| CEF, F20 ITMAL update.\n",
    "2021-08-17| CEF, E21 ITMAL update.\n",
    "2021-09-17| CEF, corrected some spell errors.\n",
    "2022-01-28| CEF, update to F22 SWMAL.\n",
    "2022-09-09| CEF, corrected 'MUST for O1' to 'MUST for O2' in text.\n",
    "2023-02-13| CEF, updated to HOML 3rd, removed exclude subsections in 'Get the Data' in this excercise, since the parts with python environments has been removed in HOML.\n",
    "2024-02-14| CEF, removed resume of 'Try-it-out'."
   ]
  }
 ],
 "metadata": {
  "kernelspec": {
   "display_name": "Python 3 (ipykernel)",
   "language": "python",
   "name": "python3"
  },
  "language_info": {
   "codemirror_mode": {
    "name": "ipython",
    "version": 3
   },
   "file_extension": ".py",
   "mimetype": "text/x-python",
   "name": "python",
   "nbconvert_exporter": "python",
   "pygments_lexer": "ipython3",
   "version": "3.9.12"
  },
  "varInspector": {
   "cols": {
    "lenName": 16,
    "lenType": 16,
    "lenVar": 40
   },
   "kernels_config": {
    "python": {
     "delete_cmd_postfix": "",
     "delete_cmd_prefix": "del ",
     "library": "var_list.py",
     "varRefreshCmd": "print(var_dic_list())"
    },
    "r": {
     "delete_cmd_postfix": ") ",
     "delete_cmd_prefix": "rm(",
     "library": "var_list.r",
     "varRefreshCmd": "cat(var_dic_list()) "
    }
   },
   "types_to_exclude": [
    "module",
    "function",
    "builtin_function_or_method",
    "instance",
    "_Feature"
   ],
   "window_display": false
  }
 },
 "nbformat": 4,
 "nbformat_minor": 2
}
